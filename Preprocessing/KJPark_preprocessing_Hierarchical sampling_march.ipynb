{
 "cells": [
  {
   "cell_type": "code",
   "execution_count": 1,
   "metadata": {},
   "outputs": [],
   "source": [
    "import os\n",
    "import pandas as pd\n",
    "from sklearn.model_selection import train_test_split\n",
    "from tqdm import tqdm\n",
    "\n",
    "data_dir = '/data/ephemeral/home/data'"
   ]
  },
  {
   "cell_type": "code",
   "execution_count": 16,
   "metadata": {},
   "outputs": [],
   "source": [
    "# 3월 이전, 3월, 3월 이후 데이터 분류\n",
    "def split_by_date_march(file_path):\n",
    "    try:\n",
    "        df = pd.read_csv(file_path)\n",
    "    except UnicodeDecodeError:\n",
    "        print(f\"Unicode decoding error in file: {file_path}\")\n",
    "        return pd.DataFrame(), pd.DataFrame(), pd.DataFrame()\n",
    "\n",
    "    # 데이터가 비어 있으면 바로 반환\n",
    "    if df.empty:\n",
    "        print(f\"No data in file: {file_path}\")\n",
    "        return pd.DataFrame(), pd.DataFrame(), pd.DataFrame()\n",
    "\n",
    "    # ID 열을 datetime 형식으로 변환 (ID 열이 '2023-01-01 00:00:00' 형식의 값들을 가지고 있음)\n",
    "    if 'ID' in df.columns:\n",
    "        df['datetime'] = pd.to_datetime(df['ID'])\n",
    "    else:\n",
    "        print(f\"No 'ID' column in file: {file_path}\")\n",
    "        return pd.DataFrame(), pd.DataFrame(), pd.DataFrame()\n",
    "\n",
    "    # 2023년 데이터 필터링\n",
    "    df_2023 = df[(df['datetime'] >= '2023-01-01') & (df['datetime'] < '2024-01-01')]\n",
    "    if df_2023.empty:\n",
    "        print(f\"No 2023 data in file: {file_path}\")\n",
    "        return pd.DataFrame(), pd.DataFrame(), pd.DataFrame()\n",
    "\n",
    "    # 3월 기준으로 데이터 분할\n",
    "    pre_march = df_2023[df_2023['datetime'] < '2023-03-01']\n",
    "    march = df_2023[(df_2023['datetime'] >= '2023-03-01') & (df_2023['datetime'] < '2023-04-01')]\n",
    "    post_march = df_2023[df_2023['datetime'] >= '2023-04-01']\n",
    "\n",
    "    return pre_march, march, post_march"
   ]
  },
  {
   "cell_type": "code",
   "execution_count": 8,
   "metadata": {},
   "outputs": [],
   "source": [
    "def hierarchical_sampling(df, target_column='target', test_size=0.2):\n",
    "    # 데이터에 'target' 열이 있는지 확인\n",
    "    if target_column not in df.columns:\n",
    "        print(f\"'{target_column}' column not found in the dataframe. Skipping this dataset.\")\n",
    "        return pd.DataFrame(), pd.DataFrame()\n",
    "\n",
    "    # 계층적 샘플링을 위해 train_test_split 사용\n",
    "    train, test = train_test_split(df, test_size=test_size, stratify=df[target_column])\n",
    "    return train, test\n"
   ]
  },
  {
   "cell_type": "code",
   "execution_count": 13,
   "metadata": {},
   "outputs": [],
   "source": [
    "def process_files():\n",
    "    files = os.listdir(data_dir)\n",
    "\n",
    "    pre_march_list = []\n",
    "    march_list = []\n",
    "    post_march_list = []\n",
    "\n",
    "    for file in tqdm(files):\n",
    "        file_path = os.path.join(data_dir, file)\n",
    "        \n",
    "        # train.csv 파일에만 'target' 열이 있으므로 따로 처리\n",
    "        if 'train.csv' in file:\n",
    "            print(f\"Processing target file: {file_path}\")\n",
    "            pre_march, march, post_march = split_by_date_march(file_path)\n",
    "            \n",
    "            if not pre_march.empty:\n",
    "                pre_march_list.append(pre_march)\n",
    "            if not march.empty:\n",
    "                march_list.append(march)\n",
    "            if not post_march.empty:\n",
    "                post_march_list.append(post_march)\n",
    "\n",
    "    # 데이터가 있는 경우에만 concat\n",
    "    pre_march_df = pd.concat(pre_march_list) if pre_march_list else pd.DataFrame()\n",
    "    march_df = pd.concat(march_list) if march_list else pd.DataFrame()\n",
    "    post_march_df = pd.concat(post_march_list) if post_march_list else pd.DataFrame()\n",
    "\n",
    "    if not pre_march_df.empty:\n",
    "        pre_march_train, pre_march_test = hierarchical_sampling(pre_march_df)\n",
    "    else:\n",
    "        pre_march_train, pre_march_test = pd.DataFrame(), pd.DataFrame()\n",
    "\n",
    "    if not march_df.empty:\n",
    "        march_train, march_test = hierarchical_sampling(march_df)\n",
    "    else:\n",
    "        march_train, march_test = pd.DataFrame(), pd.DataFrame()\n",
    "\n",
    "    if not post_march_df.empty:\n",
    "        post_march_train, post_march_test = hierarchical_sampling(post_march_df)\n",
    "    else:\n",
    "        post_march_train, post_march_test = pd.DataFrame(), pd.DataFrame()\n",
    "\n",
    "    return pre_march_train, pre_march_test, march_train, march_test, post_march_train, post_march_test\n"
   ]
  },
  {
   "cell_type": "code",
   "execution_count": 17,
   "metadata": {},
   "outputs": [
    {
     "name": "stderr",
     "output_type": "stream",
     "text": [
      "100%|██████████| 116/116 [00:00<00:00, 8346.44it/s]"
     ]
    },
    {
     "name": "stdout",
     "output_type": "stream",
     "text": [
      "Processing target file: /data/ephemeral/home/data/._train.csv\n",
      "Unicode decoding error in file: /data/ephemeral/home/data/._train.csv\n",
      "Processing target file: /data/ephemeral/home/data/train.csv\n",
      "Pre-March train size: 1132, test size: 284\n",
      "March train size: 595, test size: 149\n",
      "Post-March train size: 5280, test size: 1320\n"
     ]
    },
    {
     "name": "stderr",
     "output_type": "stream",
     "text": [
      "\n"
     ]
    }
   ],
   "source": [
    "pre_march_train, pre_march_test, march_train, march_test, post_march_train, post_march_test = process_files()\n",
    "\n",
    "print(f'Pre-March train size: {len(pre_march_train)}, test size: {len(pre_march_test)}')\n",
    "print(f'March train size: {len(march_train)}, test size: {len(march_test)}')\n",
    "print(f'Post-March train size: {len(post_march_train)}, test size: {len(post_march_test)}')"
   ]
  }
 ],
 "metadata": {
  "kernelspec": {
   "display_name": "Python 3",
   "language": "python",
   "name": "python3"
  },
  "language_info": {
   "codemirror_mode": {
    "name": "ipython",
    "version": 3
   },
   "file_extension": ".py",
   "mimetype": "text/x-python",
   "name": "python",
   "nbconvert_exporter": "python",
   "pygments_lexer": "ipython3",
   "version": "3.10.14"
  }
 },
 "nbformat": 4,
 "nbformat_minor": 2
}
